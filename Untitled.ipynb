{
 "cells": [
  {
   "cell_type": "code",
   "execution_count": 1,
   "id": "266e9519",
   "metadata": {},
   "outputs": [],
   "source": [
    "import numpy as np\n",
    "from functions import MulVarGauss, hotelling\n",
    "from functions import normalized"
   ]
  },
  {
   "cell_type": "code",
   "execution_count": 2,
   "id": "4736fcb0",
   "metadata": {},
   "outputs": [],
   "source": [
    "samples = MulVarGauss(np.array([0,0]),np.array([[1,0],[0,1]]),100)\n"
   ]
  },
  {
   "cell_type": "code",
   "execution_count": 4,
   "id": "0999fda7",
   "metadata": {},
   "outputs": [],
   "source": [
    "np.save('test_data',samples)"
   ]
  },
  {
   "cell_type": "code",
   "execution_count": 12,
   "id": "485effa3",
   "metadata": {},
   "outputs": [
    {
     "data": {
      "text/plain": [
       "array([[ 0.9305667 ,  0.04008003, -0.20323314,  0.23721154,  0.13073406,\n",
       "        -0.09492336,  0.09132853],\n",
       "       [ 0.04008003,  0.84381234, -0.22500189,  0.01296037,  0.0134975 ,\n",
       "        -0.06998571,  0.11612728],\n",
       "       [-0.20323314, -0.22500189,  1.10001101, -0.08105378,  0.01335792,\n",
       "         0.26225386, -0.28645938],\n",
       "       [ 0.23721154,  0.01296037, -0.08105378,  0.7045715 ,  0.31173255,\n",
       "        -0.10761965,  0.13050816],\n",
       "       [ 0.13073406,  0.0134975 ,  0.01335792,  0.31173255,  0.94707457,\n",
       "        -0.25953289,  0.04811155],\n",
       "       [-0.09492336, -0.06998571,  0.26225386, -0.10761965, -0.25953289,\n",
       "         0.60606313, -0.38224274],\n",
       "       [ 0.09132853,  0.11612728, -0.28645938,  0.13050816,  0.04811155,\n",
       "        -0.38224274,  1.00433621]])"
      ]
     },
     "execution_count": 12,
     "metadata": {},
     "output_type": "execute_result"
    }
   ],
   "source": [
    "covmat = np.array([[ 1.0,   0.2,  -0.1,   0.4,   0.3,  -0.2,   0.1],\n",
    " [ 0.2,   1.0,  -0.3,   0.2,   0.1,  -0.1,   0.0],\n",
    " [-0.1,  -0.3,   1.0,  -0.2,  -0.1,   0.3,  -0.2],\n",
    " [ 0.4,   0.2,  -0.2,   1.0,   0.5,  -0.3,   0.2],\n",
    " [ 0.3,   0.1,  -0.1,   0.5,   1.0,  -0.4,   0.1],\n",
    " [-0.2,  -0.1,   0.3,  -0.3,  -0.4,   1.0,  -0.5],\n",
    " [ 0.1,   0.0,  -0.2,   0.2,   0.1,  -0.5,   1.0]])\n",
    "mean = np.array([0,0,0,1,0,0,1])\n",
    "samps = MulVarGauss(mean,covmat,100)\n",
    "np.mean(samps, axis= 0)\n",
    "np.cov(samps.T)"
   ]
  },
  {
   "cell_type": "code",
   "execution_count": 42,
   "id": "2fb25cd7",
   "metadata": {},
   "outputs": [],
   "source": [
    "def normalized(data):\n",
    "    # Calculate mean and standard deviation for each row\n",
    "    row_means = np.mean(data, axis=1, keepdims=True)\n",
    "    row_stds = np.std(data, axis=1, keepdims=True)\n",
    "    # Normalize each row\n",
    "    return (data - row_means) / row_stds"
   ]
  },
  {
   "cell_type": "code",
   "execution_count": 43,
   "id": "b46b54ec",
   "metadata": {},
   "outputs": [],
   "source": [
    "data = np.array([[1,1,-1,-1],[-1,-1,1,1],[1,-1,1,-1],[1,-1,-1,1]])"
   ]
  },
  {
   "cell_type": "code",
   "execution_count": 47,
   "id": "fdab5d23",
   "metadata": {},
   "outputs": [
    {
     "data": {
      "text/plain": [
       "array([[ 1.,  1., -1., -1.],\n",
       "       [-1., -1.,  1.,  1.],\n",
       "       [ 1., -1.,  1., -1.],\n",
       "       [ 1., -1., -1.,  1.]])"
      ]
     },
     "execution_count": 47,
     "metadata": {},
     "output_type": "execute_result"
    }
   ],
   "source": [
    "row_means = np.mean(data, axis=1, keepdims=True)\n",
    "row_stds = np.std(data, axis=1, keepdims=True)\n",
    "\n",
    "# Normalize each row\n",
    "normalized_data = (data - row_means) / row_stds\n",
    "normalized_data"
   ]
  },
  {
   "cell_type": "code",
   "execution_count": null,
   "id": "2f133f1d",
   "metadata": {},
   "outputs": [],
   "source": []
  }
 ],
 "metadata": {
  "kernelspec": {
   "display_name": "Python 3 (ipykernel)",
   "language": "python",
   "name": "python3"
  },
  "language_info": {
   "codemirror_mode": {
    "name": "ipython",
    "version": 3
   },
   "file_extension": ".py",
   "mimetype": "text/x-python",
   "name": "python",
   "nbconvert_exporter": "python",
   "pygments_lexer": "ipython3",
   "version": "3.7.1"
  }
 },
 "nbformat": 4,
 "nbformat_minor": 5
}
