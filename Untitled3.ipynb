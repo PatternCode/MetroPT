{
 "cells": [
  {
   "cell_type": "code",
   "execution_count": 1,
   "id": "2ba6fb78",
   "metadata": {},
   "outputs": [],
   "source": [
    "import numpy as np"
   ]
  },
  {
   "cell_type": "code",
   "execution_count": 5,
   "id": "e97ccc46",
   "metadata": {},
   "outputs": [],
   "source": [
    "ss = np.load('test_data.npy')"
   ]
  },
  {
   "cell_type": "code",
   "execution_count": 8,
   "id": "9ba6ad5a",
   "metadata": {},
   "outputs": [
    {
     "data": {
      "text/plain": [
       "numpy.float64"
      ]
     },
     "execution_count": 8,
     "metadata": {},
     "output_type": "execute_result"
    }
   ],
   "source": [
    "type(ss[0,0])"
   ]
  },
  {
   "cell_type": "code",
   "execution_count": null,
   "id": "47105037",
   "metadata": {},
   "outputs": [],
   "source": []
  }
 ],
 "metadata": {
  "kernelspec": {
   "display_name": "Python 3 (ipykernel)",
   "language": "python",
   "name": "python3"
  },
  "language_info": {
   "codemirror_mode": {
    "name": "ipython",
    "version": 3
   },
   "file_extension": ".py",
   "mimetype": "text/x-python",
   "name": "python",
   "nbconvert_exporter": "python",
   "pygments_lexer": "ipython3",
   "version": "3.7.1"
  }
 },
 "nbformat": 4,
 "nbformat_minor": 5
}
