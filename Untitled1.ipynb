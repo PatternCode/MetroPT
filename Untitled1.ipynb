{
 "cells": [
  {
   "cell_type": "code",
   "execution_count": 9,
   "id": "3dc75494",
   "metadata": {},
   "outputs": [
    {
     "name": "stdout",
     "output_type": "stream",
     "text": [
      "[[1. 2. 3. 4.]\n",
      " [4. 4. 4. 4.]]\n"
     ]
    }
   ],
   "source": [
    "import numpy as np\n",
    "\n",
    "arr = np.array([[1,2,3,4],[4,4.0,4,4],[5,5,5,5],[6,6,6,6]])\n",
    "# print(arr)\n",
    "print(arr[0:2,:])\n",
    "\n",
    "\n"
   ]
  },
  {
   "cell_type": "code",
   "execution_count": 15,
   "id": "ba02fcfb",
   "metadata": {},
   "outputs": [],
   "source": [
    "import numpy as np\n",
    "\n",
    "\n",
    "  \"\"\"\n",
    "  Performs Principal Component Analysis (PCA) on a given dataset.\n",
    "\n",
    "  Args:\n",
    "      data: A NumPy array of shape (n_samples, n_features) representing the data.\n",
    "      n_components: (Optional) The number of principal components to return.\n",
    "          If None, all components are returned. Defaults to None.\n",
    "\n",
    "  Returns:\n",
    "      A tuple containing:\n",
    "          - pcs: A NumPy array of shape (n_features, n_components) representing the principal components.\n",
    "          - explained_variance: A NumPy array of shape (n_components,) containing the explained variance ratio for each component.\n",
    "  \"\"\"\n",
    "\n",
    "# Center the data by subtracting the mean of each feature\n",
    "mean = np.mean(data, axis=0)\n",
    "centered_data = data - mean\n",
    "\n",
    "# Calculate the covariance matrix\n",
    "covariance = np.cov(centered_data.T)\n",
    "\n",
    "# Compute eigenvalues and eigenvectors\n",
    "eigenvalues, eigenvectors = np.linalg.eig(covariance)\n",
    "\n",
    "# Sort eigenvalues and eigenvectors in descending order of eigenvalues\n",
    "sorted_index = np.argsort(eigenvalues)[::-1]\n",
    "eigenvalues = eigenvalues[sorted_index]\n",
    "eigenvectors = eigenvectors[:, sorted_index]\n",
    "\n",
    "# Select the desired number of components (if specified)\n",
    "if n_components is not None:\n",
    "pcs = eigenvectors[:, :n_components]  # Select top n_components eigenvectors\n",
    "explained_variance = eigenvalues[:n_components] / np.sum(eigenvalues)  # Explained variance ratio\n",
    "else:\n",
    "pcs = eigenvectors\n",
    "explained_variance = eigenvalues / np.sum(eigenvalues)\n",
    "\n",
    "  \n",
    "\n",
    "# Example usage\n",
    "data = np.array([[1, 2, 3], [4, 5, 6], [7, 8, 9]])  # Replace with your actual data\n",
    "pcs, explained_variance = pca(data, n_components=1)  # Choose the number of components\n",
    "\n",
    "# Use the principal components (pcs) and explained variance (explained_variance) for further analysis\n"
   ]
  },
  {
   "cell_type": "code",
   "execution_count": 16,
   "id": "ea68a8c0",
   "metadata": {},
   "outputs": [
    {
     "name": "stdout",
     "output_type": "stream",
     "text": [
      "[[ 5.77350269e-01  7.44271337e-16 -4.35592526e-01]\n",
      " [ 5.77350269e-01 -7.07106781e-01 -3.80279287e-01]\n",
      " [ 5.77350269e-01  7.07106781e-01  8.15871813e-01]]\n",
      "[ 1.00000000e+00  1.59780855e-32 -7.57716749e-18]\n"
     ]
    }
   ],
   "source": [
    "print(pcs)\n",
    "print(explained_variance)"
   ]
  },
  {
   "cell_type": "code",
   "execution_count": 14,
   "id": "6e11d360",
   "metadata": {},
   "outputs": [
    {
     "data": {
      "text/plain": [
       "Index(['Alice', 'Bob', 'Charlie', 'Alice', 'David'], dtype='object', name='Name')"
      ]
     },
     "execution_count": 14,
     "metadata": {},
     "output_type": "execute_result"
    }
   ],
   "source": [
    "unique_index = pd.Index(df['Name'])\n",
    "unique_index\n"
   ]
  },
  {
   "cell_type": "code",
   "execution_count": 17,
   "id": "3b70b48b",
   "metadata": {},
   "outputs": [
    {
     "data": {
      "text/plain": [
       "array([[1, 2, 3],\n",
       "       [4, 4, 4]])"
      ]
     },
     "execution_count": 17,
     "metadata": {},
     "output_type": "execute_result"
    }
   ],
   "source": [
    "arr1 = np.array([[1, 2, 3],[4,4,4]])\n",
    "arr2 = np.array([[4, 5, 6],[6,6,6]])\n",
    "\n",
    "# Append arr2 to the end of arr1 (vertically)\n",
    "appended_arr = np.append(arr1, arr2, axis=0)\n",
    "arr1"
   ]
  },
  {
   "cell_type": "code",
   "execution_count": 21,
   "id": "20e88661",
   "metadata": {},
   "outputs": [
    {
     "data": {
      "text/plain": [
       "array([[1., 2., 3.],\n",
       "       [4., 5., 6.],\n",
       "       [7., 8., 9.],\n",
       "       [6., 6., 6.],\n",
       "       [8., 8., 8.]])"
      ]
     },
     "execution_count": 21,
     "metadata": {},
     "output_type": "execute_result"
    }
   ],
   "source": [
    "# Sample NumPy array\n",
    "arr = np.array([[1.0, 2, 3], [4, 5, 6], [7, 8, 9],[6,6,6],[8,8,8]])\n",
    "\n",
    "arr[:,:3]"
   ]
  },
  {
   "cell_type": "code",
   "execution_count": 16,
   "id": "657fefd7",
   "metadata": {},
   "outputs": [
    {
     "name": "stdout",
     "output_type": "stream",
     "text": [
      "[[1 3 5]\n",
      " [2 4 6]\n",
      " [7 8 9]]\n",
      "[[-0.88900089 -0.9258201  -0.98058068]\n",
      " [-0.50800051 -0.46291005 -0.39223227]\n",
      " [ 1.3970014   1.38873015  1.37281295]]\n"
     ]
    }
   ],
   "source": [
    "# Sample NumPy array (replace with your actual data)\n",
    "data = np.array([[1, 3, 5], [2, 4, 6], [7, 8, 9]])\n",
    "print(data)\n",
    "\n",
    "# Normalize each feature (column)\n",
    "normalized_data = (data - np.mean(data, axis=0)) / np.std(data, axis=0)\n",
    "\n",
    "print(normalized_data)"
   ]
  },
  {
   "cell_type": "code",
   "execution_count": 17,
   "id": "8285aafd",
   "metadata": {},
   "outputs": [
    {
     "data": {
      "text/plain": [
       "array([[1, 3, 5],\n",
       "       [2, 4, 6],\n",
       "       [7, 8, 9]])"
      ]
     },
     "execution_count": 17,
     "metadata": {},
     "output_type": "execute_result"
    }
   ],
   "source": [
    "data"
   ]
  },
  {
   "cell_type": "code",
   "execution_count": 18,
   "id": "efdeeb14",
   "metadata": {},
   "outputs": [
    {
     "data": {
      "text/plain": [
       "array([3.33333333, 5.        , 6.66666667])"
      ]
     },
     "execution_count": 18,
     "metadata": {},
     "output_type": "execute_result"
    }
   ],
   "source": [
    "np.mean(data, axis=0)"
   ]
  },
  {
   "cell_type": "code",
   "execution_count": 19,
   "id": "2f1db78f",
   "metadata": {},
   "outputs": [
    {
     "data": {
      "text/plain": [
       "array([[-2.33333333, -2.        , -1.66666667],\n",
       "       [-1.33333333, -1.        , -0.66666667],\n",
       "       [ 3.66666667,  3.        ,  2.33333333]])"
      ]
     },
     "execution_count": 19,
     "metadata": {},
     "output_type": "execute_result"
    }
   ],
   "source": [
    "data-np.mean(data,axis = 0)"
   ]
  },
  {
   "cell_type": "code",
   "execution_count": 20,
   "id": "eabf8ec1",
   "metadata": {},
   "outputs": [
    {
     "data": {
      "text/plain": [
       "array([2.62466929, 2.1602469 , 1.69967317])"
      ]
     },
     "execution_count": 20,
     "metadata": {},
     "output_type": "execute_result"
    }
   ],
   "source": [
    "np.std(data, axis=0)"
   ]
  },
  {
   "cell_type": "code",
   "execution_count": 21,
   "id": "ec270ef5",
   "metadata": {},
   "outputs": [
    {
     "data": {
      "image/png": "[encoded data removed]",
      "text/plain": [
       "<Figure size 1200x400 with 3 Axes>"
      ]
     },
     "metadata": {},
     "output_type": "display_data"
    }
   ],
   "source": [
    "# Histogram\n",
    "import matplotlib.pyplot as plt\n",
    "import numpy as np\n",
    "\n",
    "# Sample NumPy array (replace with your actual data)\n",
    "data = np.array([[1, 3, 5], [2, 4, 6], [7, 8, 9]])\n",
    "\n",
    "# Number of features (columns)\n",
    "num_features = data.shape[1]\n",
    "\n",
    "# Create a subplot grid for plotting\n",
    "fig, axes = plt.subplots(nrows=1, ncols=num_features, figsize=(12, 4))\n",
    "\n",
    "# Plot histogram for each feature (column)\n",
    "for i in range(num_features):\n",
    "  axes[i].hist(data[:, i])  # data[:, i] selects the i-th column\n",
    "  axes[i].set_title(f\"Feature {i+1}\")  # Customize titles if needed\n",
    "  axes[i].set_xlabel(\"Value\")\n",
    "  axes[i].set_ylabel(\"Frequency\")\n",
    "\n",
    "# Adjust layout and display the plot\n",
    "fig.suptitle(\"Histogram of Each Feature in the Data\")\n",
    "plt.tight_layout()\n",
    "plt.show()"
   ]
  },
  {
   "cell_type": "code",
   "execution_count": 1,
   "id": "0c3431ef",
   "metadata": {},
   "outputs": [
    {
     "name": "stdout",
     "output_type": "stream",
     "text": [
      "[[19 22]\n",
      " [43 50]]\n"
     ]
    }
   ],
   "source": [
    "import numpy as np\n",
    "\n",
    "# Define two matrices\n",
    "matrix_A = np.array([[1, 2], [3, 4]])\n",
    "matrix_B = np.array([[5, 6], [7, 8]])\n",
    "\n",
    "# Perform matrix multiplication (using `np.dot` is less preferred)\n",
    "result = np.dot(matrix_A, matrix_B)\n",
    "\n",
    "print(result)\n"
   ]
  },
  {
   "cell_type": "code",
   "execution_count": 2,
   "id": "12b769f6",
   "metadata": {},
   "outputs": [
    {
     "ename": "ValueError",
     "evalue": "shapes (2,2) and (100,) not aligned: 2 (dim 1) != 100 (dim 0)",
     "output_type": "error",
     "traceback": [
      "\u001b[1;31m---------------------------------------------------------------------------\u001b[0m",
      "\u001b[1;31mValueError\u001b[0m                                Traceback (most recent call last)",
      "\u001b[1;32m~\\AppData\\Local\\Temp\\ipykernel_7712\\1529272924.py\u001b[0m in \u001b[0;36m<module>\u001b[1;34m\u001b[0m\n\u001b[0;32m     35\u001b[0m \u001b[0mnum_samples\u001b[0m \u001b[1;33m=\u001b[0m \u001b[1;36m100\u001b[0m\u001b[1;33m\u001b[0m\u001b[1;33m\u001b[0m\u001b[0m\n\u001b[0;32m     36\u001b[0m \u001b[1;33m\u001b[0m\u001b[0m\n\u001b[1;32m---> 37\u001b[1;33m \u001b[0msamples\u001b[0m \u001b[1;33m=\u001b[0m \u001b[0mgenerate_multivariate_gaussian_samples\u001b[0m\u001b[1;33m(\u001b[0m\u001b[0mmu\u001b[0m\u001b[1;33m,\u001b[0m \u001b[0mcov\u001b[0m\u001b[1;33m,\u001b[0m \u001b[0mnum_samples\u001b[0m\u001b[1;33m)\u001b[0m\u001b[1;33m\u001b[0m\u001b[1;33m\u001b[0m\u001b[0m\n\u001b[0m\u001b[0;32m     38\u001b[0m \u001b[1;33m\u001b[0m\u001b[0m\n\u001b[0;32m     39\u001b[0m \u001b[0mprint\u001b[0m\u001b[1;33m(\u001b[0m\u001b[0msamples\u001b[0m\u001b[1;33m.\u001b[0m\u001b[0mshape\u001b[0m\u001b[1;33m)\u001b[0m  \u001b[1;31m# Output: (100, 2)\u001b[0m\u001b[1;33m\u001b[0m\u001b[1;33m\u001b[0m\u001b[0m\n",
      "\u001b[1;32m~\\AppData\\Local\\Temp\\ipykernel_7712\\1529272924.py\u001b[0m in \u001b[0;36mgenerate_multivariate_gaussian_samples\u001b[1;34m(mu, cov, size)\u001b[0m\n\u001b[0;32m     28\u001b[0m \u001b[1;33m\u001b[0m\u001b[0m\n\u001b[0;32m     29\u001b[0m   \u001b[1;31m# Transform samples using Cholesky decomposition and mean vector\u001b[0m\u001b[1;33m\u001b[0m\u001b[1;33m\u001b[0m\u001b[1;33m\u001b[0m\u001b[0m\n\u001b[1;32m---> 30\u001b[1;33m   \u001b[1;32mreturn\u001b[0m \u001b[0mmu\u001b[0m \u001b[1;33m+\u001b[0m \u001b[0mnp\u001b[0m\u001b[1;33m.\u001b[0m\u001b[0mdot\u001b[0m\u001b[1;33m(\u001b[0m\u001b[0mcholesky\u001b[0m\u001b[1;33m,\u001b[0m \u001b[0msamples\u001b[0m\u001b[1;33m.\u001b[0m\u001b[0mT\u001b[0m\u001b[1;33m)\u001b[0m\u001b[1;33m.\u001b[0m\u001b[0mT\u001b[0m\u001b[1;33m\u001b[0m\u001b[1;33m\u001b[0m\u001b[0m\n\u001b[0m\u001b[0;32m     31\u001b[0m \u001b[1;33m\u001b[0m\u001b[0m\n\u001b[0;32m     32\u001b[0m \u001b[1;31m# Example usage\u001b[0m\u001b[1;33m\u001b[0m\u001b[1;33m\u001b[0m\u001b[1;33m\u001b[0m\u001b[0m\n",
      "\u001b[1;32m<__array_function__ internals>\u001b[0m in \u001b[0;36mdot\u001b[1;34m(*args, **kwargs)\u001b[0m\n",
      "\u001b[1;31mValueError\u001b[0m: shapes (2,2) and (100,) not aligned: 2 (dim 1) != 100 (dim 0)"
     ]
    }
   ],
   "source": [
    "import numpy as np\n",
    "\n",
    "def generate_multivariate_gaussian_samples(mu, cov, size):\n",
    "  \"\"\"\n",
    "  Generates random samples from a multivariate Gaussian distribution.\n",
    "\n",
    "  Args:\n",
    "      mu (numpy.ndarray): Mean vector of the distribution.\n",
    "      cov (numpy.ndarray): Covariance matrix of the distribution.\n",
    "      size (int or tuple): Number of samples to generate. If an integer, \n",
    "          shape will be (size, len(mu)). Otherwise, it should be a tuple \n",
    "          specifying the shape of the output array.\n",
    "\n",
    "  Returns:\n",
    "      numpy.ndarray: Array of random samples with shape (size, len(mu)).\n",
    "  \"\"\"\n",
    "\n",
    "  # Ensure covariance matrix is square and matches mean vector dimension\n",
    "  if cov.shape != (len(mu), len(mu)):\n",
    "    raise ValueError(\"Covariance matrix must be square and have the same\"\n",
    "                     \" dimensions as the mean vector.\")\n",
    "\n",
    "  # Generate random samples from a standard normal distribution\n",
    "  samples = np.random.normal(size=size)\n",
    "\n",
    "  # Apply Cholesky decomposition for efficient sampling\n",
    "  cholesky = np.linalg.cholesky(cov)\n",
    "\n",
    "  # Transform samples using Cholesky decomposition and mean vector\n",
    "  return mu + np.dot(cholesky, samples.T).T\n",
    "\n",
    "# Example usage\n",
    "mu = np.array([1.0, 2.0])\n",
    "cov = np.array([[1.0, 0.5], [0.5, 2.0]])\n",
    "num_samples = 100\n",
    "\n",
    "samples = generate_multivariate_gaussian_samples(mu, cov, num_samples)\n",
    "\n",
    "print(samples.shape)  # Output: (100, 2)\n",
    "print(samples[:5])  # Print the first 5 samples\n"
   ]
  },
  {
   "cell_type": "code",
   "execution_count": null,
   "id": "512af89a",
   "metadata": {},
   "outputs": [],
   "source": []
  },
  {
   "cell_type": "code",
   "execution_count": 15,
   "id": "d2518188",
   "metadata": {},
   "outputs": [
    {
     "name": "stdout",
     "output_type": "stream",
     "text": [
      "Mean of transformed samples:\n",
      "[1.00667331 2.00423082 2.99561514]\n",
      "\n",
      "Covariance of transformed samples:\n",
      "[[1.98975003 0.50071917 0.29756724]\n",
      " [0.50071917 0.99875941 0.20162472]\n",
      " [0.29756724 0.20162472 0.80375092]]\n"
     ]
    }
   ],
   "source": [
    "import numpy as np\n",
    "\n",
    "# Generate standard normal samples\n",
    "n_samples = 100000\n",
    "n_features = 3\n",
    "standard_normal_samples = np.random.randn(n_samples, n_features)\n",
    "\n",
    "# Desired mean vector and covariance matrix\n",
    "desired_mean = np.array([1, 2, 3])\n",
    "desired_covariance = np.array([[2, 0.5, 0.3],\n",
    "                                [0.5, 1, 0.2],\n",
    "                                [0.3, 0.2, 0.8]])\n",
    "\n",
    "# Compute the Cholesky decomposition of the covariance matrix\n",
    "cholesky_decomposition = np.linalg.cholesky(desired_covariance)\n",
    "\n",
    "# Transform standard normal samples into samples with desired mean and covariance\n",
    "transformed_samples = np.dot(cholesky_decomposition, standard_normal_samples.T).T + desired_mean\n",
    "\n",
    "# Print the mean and covariance of the transformed samples\n",
    "print(\"Mean of transformed samples:\")\n",
    "print(np.mean(transformed_samples, axis=0))\n",
    "print(\"\\nCovariance of transformed samples:\")\n",
    "print(np.cov(transformed_samples, rowvar=False))"
   ]
  },
  {
   "cell_type": "code",
   "execution_count": 7,
   "id": "7b1c56a5",
   "metadata": {},
   "outputs": [
    {
     "data": {
      "text/plain": [
       "array([[ 0.53941551,  0.61365542,  0.484169  ,  0.64852249, -1.13317876],\n",
       "       [-0.5479123 , -1.01924877,  0.24145281, -1.36469616, -0.68997338],\n",
       "       [-0.55748683,  0.30660359, -0.19725818, -0.64210133, -0.90593855],\n",
       "       [-1.40522357,  0.61027643, -0.09432922,  0.48974959,  1.49174569],\n",
       "       [ 0.02637112,  0.05709616,  0.00361911, -0.26795962,  0.36079393]])"
      ]
     },
     "execution_count": 7,
     "metadata": {},
     "output_type": "execute_result"
    }
   ],
   "source": [
    "np.random.randn(5, 5)"
   ]
  },
  {
   "cell_type": "code",
   "execution_count": 16,
   "id": "42aa6da6",
   "metadata": {},
   "outputs": [],
   "source": [
    "def MulVarGauss(mean_vec,cov_mat,num_samples):\n",
    "    # Generate num_samples random samples according to a multivariate\n",
    "    # Gaussian distribution with mean vector mean_vec, and covariance\n",
    "    # matrix cov_mat. It uses the Cholesky decomposion method to map\n",
    "    # standart Gaussian samples to the desired samples\n",
    "    num_features = len(mean_vec)\n",
    "    standard_normal_samples = np.random.randn(num_samples, n_features)\n",
    "    \n",
    "    # Compute the Cholesky decomposition of the covariance matrix\n",
    "    cholesky_decomposition = np.linalg.cholesky(cov_mat)\n",
    "    \n",
    "    # Transform standard normal samples into samples with desired mean and covariance\n",
    "    transformed_samples = np.dot(cholesky_decomposition, standard_normal_samples.T).T + mean_vec\n",
    "    return transformed_samples\n",
    "    \n",
    "    \n",
    "    \n",
    "\n",
    "    "
   ]
  },
  {
   "cell_type": "code",
   "execution_count": 22,
   "id": "d387566f",
   "metadata": {},
   "outputs": [
    {
     "name": "stdout",
     "output_type": "stream",
     "text": [
      "Mean of transformed samples:\n",
      "[0.98836777 1.97831796 2.956729  ]\n",
      "\n",
      "Covariance of transformed samples:\n",
      "[[2.03396776 0.52289362 0.24986504]\n",
      " [0.52289362 1.07610542 0.21412159]\n",
      " [0.24986504 0.21412159 0.78212663]]\n"
     ]
    }
   ],
   "source": [
    "desired_mean = np.array([1, 2, 3])\n",
    "desired_covariance = np.array([[2, 0.5, 0.3],\n",
    "                                [0.5, 1, 0.2],\n",
    "                                [0.3, 0.2, 0.8]])\n",
    "sss = MulVarGauss(desired_mean,desired_covariance,1000)\n",
    "\n",
    "# print(sss)\n",
    "print(\"Mean of transformed samples:\")\n",
    "print(np.mean(sss, axis=0))\n",
    "print(\"\\nCovariance of transformed samples:\")\n",
    "print(np.cov(sss, rowvar=False))"
   ]
  },
  {
   "cell_type": "code",
   "execution_count": 18,
   "id": "908cd6f1",
   "metadata": {},
   "outputs": [
    {
     "name": "stdout",
     "output_type": "stream",
     "text": [
      "[[ 2.71761803  1.60317244  3.4202944 ]\n",
      " [ 0.96295267  3.25403996  3.71605469]\n",
      " [-0.28861549  2.87519947  2.52653255]]\n"
     ]
    }
   ],
   "source": [
    "print(sss)"
   ]
  },
  {
   "cell_type": "code",
   "execution_count": 23,
   "id": "4b9c4a3a",
   "metadata": {},
   "outputs": [],
   "source": [
    "from functions import MulVarGauss"
   ]
  },
  {
   "cell_type": "code",
   "execution_count": 24,
   "id": "0ec8c47e",
   "metadata": {},
   "outputs": [
    {
     "name": "stdout",
     "output_type": "stream",
     "text": [
      "Help on function MulVarGauss in module functions:\n",
      "\n",
      "MulVarGauss(mean_vec, cov_mat, num_samples)\n",
      "\n"
     ]
    }
   ],
   "source": [
    "help(MulVarGauss)"
   ]
  },
  {
   "cell_type": "code",
   "execution_count": 27,
   "id": "8bf63c56",
   "metadata": {},
   "outputs": [
    {
     "ename": "NameError",
     "evalue": "name 'n_features' is not defined",
     "output_type": "error",
     "traceback": [
      "\u001b[1;31m---------------------------------------------------------------------------\u001b[0m",
      "\u001b[1;31mNameError\u001b[0m                                 Traceback (most recent call last)",
      "\u001b[1;32m~\\AppData\\Local\\Temp\\ipykernel_7712\\3256942558.py\u001b[0m in \u001b[0;36m<module>\u001b[1;34m\u001b[0m\n\u001b[1;32m----> 1\u001b[1;33m \u001b[0mMulVarGauss\u001b[0m\u001b[1;33m(\u001b[0m\u001b[1;33m[\u001b[0m\u001b[1;36m1\u001b[0m\u001b[1;33m,\u001b[0m\u001b[1;36m1\u001b[0m\u001b[1;33m]\u001b[0m\u001b[1;33m,\u001b[0m\u001b[1;33m[\u001b[0m\u001b[1;33m[\u001b[0m\u001b[1;36m2\u001b[0m\u001b[1;33m,\u001b[0m\u001b[1;36m0\u001b[0m\u001b[1;33m]\u001b[0m\u001b[1;33m,\u001b[0m\u001b[1;33m[\u001b[0m\u001b[1;36m0\u001b[0m\u001b[1;33m,\u001b[0m\u001b[1;36m2\u001b[0m\u001b[1;33m]\u001b[0m\u001b[1;33m]\u001b[0m\u001b[1;33m,\u001b[0m\u001b[1;36m10\u001b[0m\u001b[1;33m)\u001b[0m\u001b[1;33m\u001b[0m\u001b[1;33m\u001b[0m\u001b[0m\n\u001b[0m",
      "\u001b[1;32mD:\\Repositories\\XAI\\MetroPT\\functions.py\u001b[0m in \u001b[0;36mMulVarGauss\u001b[1;34m(mean_vec, cov_mat, num_samples)\u001b[0m\n\u001b[0;32m      7\u001b[0m     \u001b[1;31m# standart Gaussian samples to the desired samples\u001b[0m\u001b[1;33m\u001b[0m\u001b[1;33m\u001b[0m\u001b[1;33m\u001b[0m\u001b[0m\n\u001b[0;32m      8\u001b[0m     \u001b[0mnum_features\u001b[0m \u001b[1;33m=\u001b[0m \u001b[0mlen\u001b[0m\u001b[1;33m(\u001b[0m\u001b[0mmean_vec\u001b[0m\u001b[1;33m)\u001b[0m\u001b[1;33m\u001b[0m\u001b[1;33m\u001b[0m\u001b[0m\n\u001b[1;32m----> 9\u001b[1;33m     \u001b[0mstandard_normal_samples\u001b[0m \u001b[1;33m=\u001b[0m \u001b[0mnp\u001b[0m\u001b[1;33m.\u001b[0m\u001b[0mrandom\u001b[0m\u001b[1;33m.\u001b[0m\u001b[0mrandn\u001b[0m\u001b[1;33m(\u001b[0m\u001b[0mnum_samples\u001b[0m\u001b[1;33m,\u001b[0m \u001b[0mnum_features\u001b[0m\u001b[1;33m)\u001b[0m\u001b[1;33m\u001b[0m\u001b[1;33m\u001b[0m\u001b[0m\n\u001b[0m\u001b[0;32m     10\u001b[0m \u001b[1;33m\u001b[0m\u001b[0m\n\u001b[0;32m     11\u001b[0m     \u001b[1;31m# Compute the Cholesky decomposition of the covariance matrix\u001b[0m\u001b[1;33m\u001b[0m\u001b[1;33m\u001b[0m\u001b[1;33m\u001b[0m\u001b[0m\n",
      "\u001b[1;31mNameError\u001b[0m: name 'n_features' is not defined"
     ]
    }
   ],
   "source": [
    "MulVarGauss([1,1],[[2,0],[0,2]],10)"
   ]
  },
  {
   "cell_type": "code",
   "execution_count": 1,
   "id": "ab507a40",
   "metadata": {},
   "outputs": [
    {
     "ename": "NameError",
     "evalue": "name 'data' is not defined",
     "output_type": "error",
     "traceback": [
      "\u001b[1;31m---------------------------------------------------------------------------\u001b[0m",
      "\u001b[1;31mNameError\u001b[0m                                 Traceback (most recent call last)",
      "\u001b[1;32m~\\AppData\\Local\\Temp\\ipykernel_14304\\391604064.py\u001b[0m in \u001b[0;36m<module>\u001b[1;34m\u001b[0m\n\u001b[1;32m----> 1\u001b[1;33m \u001b[0mdata\u001b[0m\u001b[1;33m\u001b[0m\u001b[1;33m\u001b[0m\u001b[0m\n\u001b[0m",
      "\u001b[1;31mNameError\u001b[0m: name 'data' is not defined"
     ]
    }
   ],
   "source": [
    "data"
   ]
  },
  {
   "cell_type": "code",
   "execution_count": null,
   "id": "b2790145",
   "metadata": {},
   "outputs": [],
   "source": []
  }
 ],
 "metadata": {
  "kernelspec": {
   "display_name": "Python 3 (ipykernel)",
   "language": "python",
   "name": "python3"
  },
  "language_info": {
   "codemirror_mode": {
    "name": "ipython",
    "version": 3
   },
   "file_extension": ".py",
   "mimetype": "text/x-python",
   "name": "python",
   "nbconvert_exporter": "python",
   "pygments_lexer": "ipython3",
   "version": "3.7.1"
  }
 },
 "nbformat": 4,
 "nbformat_minor": 5
}
