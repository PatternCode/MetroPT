{
 "cells": [
  {
   "cell_type": "code",
   "execution_count": 12,
   "id": "31e3daee",
   "metadata": {},
   "outputs": [],
   "source": [
    "from sklearn.linear_model import LogisticRegression\n",
    "from sklearn.model_selection import train_test_split\n",
    "from sklearn.metrics import accuracy_score,classification_report\n",
    "import numpy as np"
   ]
  },
  {
   "cell_type": "code",
   "execution_count": 2,
   "id": "a51a385f",
   "metadata": {},
   "outputs": [],
   "source": [
    "from functions import select_random_rows"
   ]
  },
  {
   "cell_type": "code",
   "execution_count": 5,
   "id": "33626b2d",
   "metadata": {},
   "outputs": [],
   "source": [
    "anom = np.load('anomaly_samples.npy',allow_pickle=True).astype(np.float64)\n",
    "norm = np.load('normal_samples.npy',allow_pickle = True).astype(np.float64)"
   ]
  },
  {
   "cell_type": "code",
   "execution_count": 6,
   "id": "2b5f0f82",
   "metadata": {},
   "outputs": [],
   "source": [
    "norm_no = 40000\n",
    "sel_from_norm = select_random_rows(norm,norm_no)"
   ]
  },
  {
   "cell_type": "code",
   "execution_count": 7,
   "id": "a3f7ee03",
   "metadata": {},
   "outputs": [],
   "source": [
    "all_samples = np.concatenate((sel_from_norm,anom),axis = 0)\n",
    "\n",
    "zero_labels = np.zeros(sel_from_norm.shape[0])\n",
    "one_labels = np.ones(anom.shape[0])\n",
    "\n",
    "# zero_labels = np.zeros(anom.shape[0])\n",
    "# one_labels = np.ones(sel_from_norm.shape[0])\n",
    "\n",
    "\n",
    "all_labels = np.concatenate((zero_labels,one_labels))\n",
    "all_samps_labs = np.column_stack((all_samples,all_labels)) # [data|label]"
   ]
  },
  {
   "cell_type": "code",
   "execution_count": 8,
   "id": "97716f87",
   "metadata": {},
   "outputs": [
    {
     "data": {
      "text/plain": [
       "array([0., 0., 0., ..., 1., 1., 1.])"
      ]
     },
     "execution_count": 8,
     "metadata": {},
     "output_type": "execute_result"
    }
   ],
   "source": [
    "all_labels"
   ]
  },
  {
   "cell_type": "code",
   "execution_count": 9,
   "id": "a8977103",
   "metadata": {},
   "outputs": [],
   "source": [
    "# Shuffling\n",
    "np.random.shuffle(all_samps_labs)\n"
   ]
  },
  {
   "cell_type": "code",
   "execution_count": 10,
   "id": "a69653be",
   "metadata": {},
   "outputs": [],
   "source": [
    "# Extracting X,y\n",
    "X = all_samps_labs[:,:-1]\n",
    "y = all_samps_labs[:,-1]"
   ]
  },
  {
   "cell_type": "code",
   "execution_count": 18,
   "id": "c90c6d79",
   "metadata": {},
   "outputs": [
    {
     "name": "stdout",
     "output_type": "stream",
     "text": [
      "Accuracy: 0.9869455429034256\n",
      "Classification Report:\n",
      "              precision    recall  f1-score   support\n",
      "\n",
      "         0.0       1.00      0.98      0.99     11992\n",
      "         1.0       0.98      0.99      0.98      8997\n",
      "\n",
      "    accuracy                           0.99     20989\n",
      "   macro avg       0.99      0.99      0.99     20989\n",
      "weighted avg       0.99      0.99      0.99     20989\n",
      "\n"
     ]
    },
    {
     "name": "stderr",
     "output_type": "stream",
     "text": [
      "D:\\miniconda3\\envs\\ml_env\\lib\\site-packages\\sklearn\\linear_model\\_logistic.py:818: ConvergenceWarning: lbfgs failed to converge (status=1):\n",
      "STOP: TOTAL NO. of ITERATIONS REACHED LIMIT.\n",
      "\n",
      "Increase the number of iterations (max_iter) or scale the data as shown in:\n",
      "    https://scikit-learn.org/stable/modules/preprocessing.html\n",
      "Please also refer to the documentation for alternative solver options:\n",
      "    https://scikit-learn.org/stable/modules/linear_model.html#logistic-regression\n",
      "  extra_warning_msg=_LOGISTIC_SOLVER_CONVERGENCE_MSG,\n"
     ]
    }
   ],
   "source": [
    "# Split the dataset into training and testing sets\n",
    "X_train, X_test, y_train, y_test = train_test_split(X, y, test_size=0.3, random_state=42)\n",
    "\n",
    "# Initialize the logistic regression model\n",
    "model = LogisticRegression(C=0.5)\n",
    "\n",
    "# Fit the model on the training data\n",
    "model.fit(X_train, y_train)\n",
    "\n",
    "# Make predictions on the testing data\n",
    "predictions = model.predict(X_test)\n",
    "\n",
    "# Calculate the accuracy of the model\n",
    "accuracy = accuracy_score(y_test, predictions)\n",
    "print(\"Accuracy:\", accuracy)\n",
    "\n",
    "# Classification report\n",
    "print(\"Classification Report:\")\n",
    "print(classification_report(y_test, predictions))"
   ]
  },
  {
   "cell_type": "code",
   "execution_count": 15,
   "id": "27c5e405",
   "metadata": {},
   "outputs": [
    {
     "name": "stdout",
     "output_type": "stream",
     "text": [
      "[[-0.33761001 -0.42241582 -0.5509846   2.30703887 -0.4814442   0.36374017\n",
      "  -0.36298887]]\n"
     ]
    }
   ],
   "source": [
    "print(model.coef_)"
   ]
  },
  {
   "cell_type": "code",
   "execution_count": null,
   "id": "f43a5240",
   "metadata": {},
   "outputs": [],
   "source": []
  }
 ],
 "metadata": {
  "kernelspec": {
   "display_name": "Python 3 (ipykernel)",
   "language": "python",
   "name": "python3"
  },
  "language_info": {
   "codemirror_mode": {
    "name": "ipython",
    "version": 3
   },
   "file_extension": ".py",
   "mimetype": "text/x-python",
   "name": "python",
   "nbconvert_exporter": "python",
   "pygments_lexer": "ipython3",
   "version": "3.7.1"
  }
 },
 "nbformat": 4,
 "nbformat_minor": 5
}
