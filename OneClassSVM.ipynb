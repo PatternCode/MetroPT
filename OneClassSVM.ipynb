{
 "cells": [
  {
   "cell_type": "code",
   "execution_count": 1,
   "id": "a752098e",
   "metadata": {},
   "outputs": [],
   "source": [
    "import numpy as np\n",
    "from sklearn.datasets import load_iris\n",
    "from sklearn.model_selection import train_test_split\n",
    "from sklearn.svm import OneClassSVM\n",
    "from functions import select_random_rows"
   ]
  },
  {
   "cell_type": "code",
   "execution_count": 2,
   "id": "0a94767a",
   "metadata": {},
   "outputs": [],
   "source": [
    "# read data\n",
    "anom = np.load('anomaly_samples.npy',allow_pickle=True).astype(np.float64)\n",
    "norm = np.load('normal_samples.npy',allow_pickle = True).astype(np.float64)"
   ]
  },
  {
   "cell_type": "code",
   "execution_count": 3,
   "id": "543a8155",
   "metadata": {},
   "outputs": [],
   "source": [
    "norm_no = 4000\n",
    "sel_from_norm = select_random_rows(norm,norm_no)"
   ]
  },
  {
   "cell_type": "code",
   "execution_count": 4,
   "id": "b5c163ca",
   "metadata": {},
   "outputs": [
    {
     "data": {
      "text/plain": [
       "(4000, 7)"
      ]
     },
     "execution_count": 4,
     "metadata": {},
     "output_type": "execute_result"
    }
   ],
   "source": [
    "sel_from_norm.shape"
   ]
  },
  {
   "cell_type": "code",
   "execution_count": 5,
   "id": "e366c233",
   "metadata": {},
   "outputs": [],
   "source": [
    "# all_samples = np.concatenate((sel_from_norm,anom),axis = 0)\n",
    "\n",
    "# zero_labels = np.zeros(sel_from_norm.shape[0])\n",
    "# one_labels = np.ones(anom.shape[0])\n",
    "\n",
    "# # zero_labels = np.zeros(anom.shape[0])\n",
    "# # one_labels = np.ones(sel_from_norm.shape[0])\n",
    "\n",
    "\n",
    "# all_labels = np.concatenate((zero_labels,one_labels))\n",
    "# all_samps_labs = np.column_stack((all_samples,all_labels)) # [data|label]"
   ]
  },
  {
   "cell_type": "code",
   "execution_count": 6,
   "id": "a49b4920",
   "metadata": {},
   "outputs": [
    {
     "name": "stdout",
     "output_type": "stream",
     "text": [
      "Predictions: [ 1 -1  1 ...  1  1  1]\n",
      "(2400, 7)\n"
     ]
    }
   ],
   "source": [
    "\n",
    "# Split the dataset into training and testing sets\n",
    "X_train, X_test = train_test_split(sel_from_norm, test_size=0.6, random_state=42)\n",
    "\n",
    "# Initialize the one-class SVM model\n",
    "model = OneClassSVM(nu=0.25, kernel=\"rbf\", gamma=0.01)\n",
    "\n",
    "# Fit the model on the training data\n",
    "model.fit(X_train)\n",
    "\n",
    "# Make predictions on the testing data\n",
    "predictions = model.predict(X_test)\n",
    "\n",
    "# Print the predictions\n",
    "print(\"Predictions:\", predictions)\n",
    "print(X_test.shape)\n",
    "\n",
    " "
   ]
  },
  {
   "cell_type": "code",
   "execution_count": 7,
   "id": "389fd0a0",
   "metadata": {},
   "outputs": [],
   "source": [
    "y_pred_train = model.predict(X_train)\n",
    "y_pred_test = model.predict(X_test)\n",
    "y_pred_anom = model.predict(anom)\n",
    "n_error_train = y_pred_train[y_pred_train == -1].size\n",
    "n_error_test = y_pred_test[y_pred_test == -1].size\n",
    "n_error_anom = y_pred_anom[y_pred_anom == 1].size\n"
   ]
  },
  {
   "cell_type": "code",
   "execution_count": 53,
   "id": "4001d2b6",
   "metadata": {},
   "outputs": [
    {
     "name": "stdout",
     "output_type": "stream",
     "text": [
      "\n",
      " n_error_train:  0.253125\n",
      "\n",
      " n_error_test:  0.2520833333333333\n",
      "\n",
      " n_error_anom:  3.3376723073328663e-05\n"
     ]
    }
   ],
   "source": [
    "print('\\n n_error_train: ' , n_error_train/X_train.shape[0])\n",
    "print('\\n n_error_test: ' , n_error_test/X_test.shape[0])\n",
    "print('\\n n_error_anom: ' , n_error_anom/anom.shape[0])"
   ]
  },
  {
   "cell_type": "code",
   "execution_count": null,
   "id": "270262c9",
   "metadata": {},
   "outputs": [],
   "source": []
  },
  {
   "cell_type": "code",
   "execution_count": 23,
   "id": "b9cdf98c",
   "metadata": {},
   "outputs": [
    {
     "data": {
      "text/plain": [
       "array([-1, -1, -1,  1, -1, -1, -1, -1, -1, -1,  1,  1, -1,  1, -1,  1, -1,\n",
       "        1,  1,  1,  1, -1,  1,  1, -1, -1,  1, -1, -1, -1, -1,  1,  1, -1,\n",
       "       -1, -1,  1,  1, -1, -1,  1,  1,  1,  1,  1, -1, -1, -1, -1,  1,  1,\n",
       "       -1,  1, -1,  1, -1, -1, -1,  1,  1,  1,  1, -1, -1, -1, -1, -1,  1,\n",
       "       -1, -1, -1, -1,  1, -1,  1,  1, -1,  1, -1, -1,  1, -1,  1, -1,  1,\n",
       "        1, -1,  1,  1, -1, -1, -1,  1,  1,  1, -1, -1,  1,  1],\n",
       "      dtype=int64)"
      ]
     },
     "execution_count": 23,
     "metadata": {},
     "output_type": "execute_result"
    }
   ],
   "source": [
    "predictions[1:100]"
   ]
  },
  {
   "cell_type": "code",
   "execution_count": null,
   "id": "5625647d",
   "metadata": {},
   "outputs": [],
   "source": []
  }
 ],
 "metadata": {
  "kernelspec": {
   "display_name": "Python 3 (ipykernel)",
   "language": "python",
   "name": "python3"
  },
  "language_info": {
   "codemirror_mode": {
    "name": "ipython",
    "version": 3
   },
   "file_extension": ".py",
   "mimetype": "text/x-python",
   "name": "python",
   "nbconvert_exporter": "python",
   "pygments_lexer": "ipython3",
   "version": "3.7.1"
  }
 },
 "nbformat": 4,
 "nbformat_minor": 5
}
