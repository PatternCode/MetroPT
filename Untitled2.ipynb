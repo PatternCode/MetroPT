{
 "cells": [
  {
   "cell_type": "code",
   "execution_count": 4,
   "id": "d804c299",
   "metadata": {},
   "outputs": [],
   "source": [
    "import numpy as np\n",
    "from functions import MulVarGauss"
   ]
  },
  {
   "cell_type": "code",
   "execution_count": 12,
   "id": "6305909c",
   "metadata": {},
   "outputs": [],
   "source": [
    "ttt = MulVarGauss([1,2],[[1,0],[0,1]],4)"
   ]
  },
  {
   "cell_type": "code",
   "execution_count": 13,
   "id": "628cb1da",
   "metadata": {},
   "outputs": [
    {
     "data": {
      "text/plain": [
       "array([[0.70043789, 2.49479897],\n",
       "       [1.40929917, 2.24024284],\n",
       "       [0.48021067, 4.38921716],\n",
       "       [0.83583266, 1.81730634]])"
      ]
     },
     "execution_count": 13,
     "metadata": {},
     "output_type": "execute_result"
    }
   ],
   "source": [
    "ttt"
   ]
  },
  {
   "cell_type": "code",
   "execution_count": 14,
   "id": "7496ffe2",
   "metadata": {},
   "outputs": [
    {
     "name": "stdout",
     "output_type": "stream",
     "text": [
      "Mean of transformed samples:\n",
      "[0.98069657 2.00495796 2.99176783]\n",
      "\n",
      "Covariance of transformed samples:\n",
      "[[1.93105756 0.58446571 0.28186357]\n",
      " [0.58446571 1.04572081 0.22153703]\n",
      " [0.28186357 0.22153703 0.83319778]]\n"
     ]
    }
   ],
   "source": [
    "import numpy as np\n",
    "from functions import MulVarGauss\n",
    "desired_mean = np.array([1, 2, 3])\n",
    "desired_covariance = np.array([[2, 0.5, 0.3],\n",
    "                                [0.5, 1, 0.2],\n",
    "                                [0.3, 0.2, 0.8]])\n",
    "sss = MulVarGauss(desired_mean,desired_covariance,1000)\n",
    "\n",
    "# print(sss)\n",
    "print(\"Mean of transformed samples:\")\n",
    "print(np.mean(sss, axis=0))\n",
    "print(\"\\nCovariance of transformed samples:\")\n",
    "print(np.cov(sss, rowvar=False))"
   ]
  },
  {
   "cell_type": "code",
   "execution_count": 1,
   "id": "fe11ba42",
   "metadata": {},
   "outputs": [
    {
     "name": "stdout",
     "output_type": "stream",
     "text": [
      "[[70 85 90]\n",
      " [65 92 80]\n",
      " [88 75 62]]\n"
     ]
    }
   ],
   "source": [
    "import numpy as np\n",
    "\n",
    "scores = np.array([[70, 85, 90],\n",
    "                   [65, 92, 80],\n",
    "                   [88, 75, 62]])\n",
    "\n",
    "print(scores)"
   ]
  },
  {
   "cell_type": "code",
   "execution_count": 12,
   "id": "69035374",
   "metadata": {},
   "outputs": [],
   "source": [
    "sorted_indices = np.argsort(scores, axis=0)"
   ]
  },
  {
   "cell_type": "code",
   "execution_count": 13,
   "id": "8e277752",
   "metadata": {},
   "outputs": [
    {
     "data": {
      "text/plain": [
       "array([[1, 2, 2],\n",
       "       [0, 0, 1],\n",
       "       [2, 1, 0]], dtype=int64)"
      ]
     },
     "execution_count": 13,
     "metadata": {},
     "output_type": "execute_result"
    }
   ],
   "source": [
    "sorted_indices"
   ]
  },
  {
   "cell_type": "code",
   "execution_count": 24,
   "id": "597d844b",
   "metadata": {},
   "outputs": [],
   "source": [
    "def hotelling(samples,n_components):\n",
    "    # This function performes Principal Component Analysis (PCA) on 'samples' and extracts \n",
    "    # 'num_of_comp' principal components. It returns a 1-dimensional numpy array of sorted\n",
    "    # eigenvalues and an 2-dimensional numpy array of eigen vectores of their corresponding\n",
    "    # eigenvectors\n",
    "    \n",
    "    # Center the data by subtracting the mean of each feature\n",
    "    mean = np.mean(samples, axis=0)\n",
    "    centered_data = samples - mean\n",
    "    \n",
    "    # Calculate the covariance matrix\n",
    "    covariance = np.cov(centered_data.T)\n",
    "    \n",
    "    # Compute eigenvalues and eigenvectors\n",
    "    eigenvalues, eigenvectors = np.linalg.eig(covariance)\n",
    "    \n",
    "    # Sort eigenvalues and eigenvectors in descending order of eigenvalues\n",
    "    sorted_index = np.argsort(eigenvalues)[::-1]\n",
    "    eigenvalues = eigenvalues[sorted_index]\n",
    "    eigenvectors = eigenvectors[:, sorted_index]\n",
    "    \n",
    "    pcs = eigenvectors[:, :n_components]  # Select top n_components eigenvectors\n",
    "    explained_variance = eigenvalues[:n_components] / np.sum(eigenvalues)  # Explained variance ratio\n",
    "    return pcs,explained_variance"
   ]
  },
  {
   "cell_type": "code",
   "execution_count": 25,
   "id": "81056aaa",
   "metadata": {},
   "outputs": [],
   "source": [
    "\n",
    "random_array = np.random.rand(3, 3)\n"
   ]
  },
  {
   "cell_type": "code",
   "execution_count": 26,
   "id": "f80976fd",
   "metadata": {},
   "outputs": [],
   "source": [
    "t,s = hotelling(random_array,2)"
   ]
  },
  {
   "cell_type": "code",
   "execution_count": 27,
   "id": "257bd32e",
   "metadata": {},
   "outputs": [
    {
     "data": {
      "text/plain": [
       "array([[-0.84546801, -0.01148357],\n",
       "       [ 0.44071043, -0.57962603],\n",
       "       [ 0.30159271,  0.81480169]])"
      ]
     },
     "execution_count": 27,
     "metadata": {},
     "output_type": "execute_result"
    }
   ],
   "source": [
    "t"
   ]
  },
  {
   "cell_type": "code",
   "execution_count": 28,
   "id": "bfad2c5b",
   "metadata": {},
   "outputs": [
    {
     "data": {
      "text/plain": [
       "array([0.61171874, 0.38828126])"
      ]
     },
     "execution_count": 28,
     "metadata": {},
     "output_type": "execute_result"
    }
   ],
   "source": [
    "s"
   ]
  },
  {
   "cell_type": "code",
   "execution_count": null,
   "id": "c73f982c",
   "metadata": {},
   "outputs": [],
   "source": []
  }
 ],
 "metadata": {
  "kernelspec": {
   "display_name": "Python 3 (ipykernel)",
   "language": "python",
   "name": "python3"
  },
  "language_info": {
   "codemirror_mode": {
    "name": "ipython",
    "version": 3
   },
   "file_extension": ".py",
   "mimetype": "text/x-python",
   "name": "python",
   "nbconvert_exporter": "python",
   "pygments_lexer": "ipython3",
   "version": "3.7.1"
  }
 },
 "nbformat": 4,
 "nbformat_minor": 5
}
